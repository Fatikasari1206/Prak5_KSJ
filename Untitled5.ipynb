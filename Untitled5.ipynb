{
 "cells": [
  {
   "cell_type": "code",
   "execution_count": 3,
   "id": "bfea0415-c455-48d6-a6c1-703ad873b676",
   "metadata": {},
   "outputs": [
    {
     "name": "stdout",
     "output_type": "stream",
     "text": [
      "Pesan asli   : mata air kehidupan\n",
      "Keyword     : mataram\n",
      "Hasil enkripsi: yama aud deyipgptn\n"
     ]
    }
   ],
   "source": [
    "def generate_key(message: str, keyword: str) -> str:\n",
    "    \"\"\"\n",
    "    Menyesuaikan panjang keyword agar sama dengan panjang pesan.\n",
    "    \"\"\"\n",
    "    keyword = list(keyword)\n",
    "    if len(message) == len(keyword):\n",
    "        return \"\".join(keyword)\n",
    "    else:\n",
    "        for i in range(len(message) - len(keyword)):\n",
    "            keyword.append(keyword[i % len(keyword)])  # Fixed the syntax here\n",
    "        return \"\".join(keyword)  # Fixed the indentation here\n",
    "\n",
    "def encrypt_vigenere(plain_text: str, keyword: str) -> str:\n",
    "    \"\"\"\n",
    "    Mengenskripsi plain_text menggunakan vigenere cipher dan keyword.\n",
    "    Hanya huruf alfabet yang dienkripsi.\n",
    "    \"\"\"\n",
    "    encrypted_text = []\n",
    "    key = generate_key(plain_text, keyword)\n",
    "\n",
    "    for i in range(len(plain_text)):\n",
    "        if plain_text[i].isalpha():  # Checking if character is alphabet\n",
    "            shift = ord(key[i].upper()) - ord('A')\n",
    "            if plain_text[i].isupper():\n",
    "                encrypted_char = chr((ord(plain_text[i].upper()) - ord('A') + shift) % 26 + ord('A'))\n",
    "            else:\n",
    "                encrypted_char = chr((ord(plain_text[i].lower()) - ord('a') + shift) % 26 + ord('a'))\n",
    "            encrypted_text.append(encrypted_char)\n",
    "        else:\n",
    "            encrypted_text.append(plain_text[i])  # Non-alphabet characters are not encrypted\n",
    "\n",
    "    return \"\".join(encrypted_text)\n",
    "\n",
    "message = \"mata air kehidupan\"\n",
    "keyword = \"mataram\"\n",
    "encrypted = encrypt_vigenere(message, keyword)\n",
    "print(\"Pesan asli   :\", message)\n",
    "print(\"Keyword     :\", keyword)\n",
    "print(\"Hasil enkripsi:\", encrypted)\n"
   ]
  },
  {
   "cell_type": "code",
   "execution_count": null,
   "id": "a9ba1f52-4c32-494a-b277-63cc0e07df1b",
   "metadata": {},
   "outputs": [],
   "source": []
  }
 ],
 "metadata": {
  "kernelspec": {
   "display_name": "Python [conda env:base] *",
   "language": "python",
   "name": "conda-base-py"
  },
  "language_info": {
   "codemirror_mode": {
    "name": "ipython",
    "version": 3
   },
   "file_extension": ".py",
   "mimetype": "text/x-python",
   "name": "python",
   "nbconvert_exporter": "python",
   "pygments_lexer": "ipython3",
   "version": "3.12.7"
  }
 },
 "nbformat": 4,
 "nbformat_minor": 5
}
